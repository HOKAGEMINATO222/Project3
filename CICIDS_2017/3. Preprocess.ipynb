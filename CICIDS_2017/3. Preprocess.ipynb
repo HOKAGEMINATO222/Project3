{
 "cells": [
  {
   "cell_type": "markdown",
   "metadata": {},
   "source": [
    "### Cài đặt thư viện và thiết lập Logging\n",
    "Chúng ta sẽ cài đặt thư viện pandas, numpy, sklearn và thiết lập logging để ghi nhận thông tin trong quá trình xử lý.\n",
    "\n"
   ]
  },
  {
   "cell_type": "code",
   "execution_count": 1,
   "metadata": {},
   "outputs": [],
   "source": [
    "import os\n",
    "import logging\n",
    "import pandas as pd\n",
    "import numpy as np\n",
    "from sklearn.preprocessing import LabelEncoder\n",
    "from sklearn.model_selection import train_test_split\n",
    "\n",
    "# Thiết lập Logging\n",
    "logging.basicConfig(format=\"%(asctime)s %(levelname)s %(message)s\", datefmt=\"%H:%M:%S\", level=logging.INFO)\n",
    "\n",
    "# Cài đặt hiển thị cho DataFrame (hiển thị tối đa 85 hàng)\n",
    "pd.set_option(\"display.max_rows\", 85)\n"
   ]
  },
  {
   "cell_type": "markdown",
   "metadata": {},
   "source": [
    "### Đặt đường dẫn tới tệp dữ liệu\n",
    "Xác định đường dẫn tới thư mục chứa dữ liệu `MachineLearningCVE.csv` để xử lý.\n"
   ]
  },
  {
   "cell_type": "code",
   "execution_count": 7,
   "metadata": {},
   "outputs": [],
   "source": [
    "# Cập nhật đường dẫn\n",
    "DIR_PATH = \"MachineLearningCSV/MachineLearningCVE\"\n",
    "PROCESSED_DIR_PATH = \"ProcessedDataset\"\n",
    "FILE_PATH = os.path.join(DIR_PATH, \"MachineLearningCVE.csv\")\n"
   ]
  },
  {
   "cell_type": "markdown",
   "metadata": {},
   "source": [
    "### Mã hóa nhãn `Label` bằng Label Encoding\n",
    "Sử dụng `LabelEncoder` để chuyển đổi cột `Label` từ dạng chuỗi sang số nhằm chuẩn bị cho việc huấn luyện mô hình. Kết quả được lưu trữ để sử dụng trong các bước tiếp theo.\n"
   ]
  },
  {
   "cell_type": "code",
   "execution_count": 8,
   "metadata": {},
   "outputs": [
    {
     "name": "stderr",
     "output_type": "stream",
     "text": [
      "15:13:25 INFO Total rows: (2830743, 1)\n",
      "15:13:25 INFO Class distribution:\n",
      "Label\n",
      "BENIGN                        2273097\n",
      "DoS Hulk                       231073\n",
      "PortScan                       158930\n",
      "DDoS                           128027\n",
      "DoS GoldenEye                   10293\n",
      "FTP-Patator                      7938\n",
      "SSH-Patator                      5897\n",
      "DoS slowloris                    5796\n",
      "DoS Slowhttptest                 5499\n",
      "Bot                              1966\n",
      "Web Attack � Brute Force         1507\n",
      "Web Attack � XSS                  652\n",
      "Infiltration                       36\n",
      "Web Attack � Sql Injection         21\n",
      "Heartbleed                         11\n",
      "Name: count, dtype: int64\n",
      "\n"
     ]
    }
   ],
   "source": [
    "def _label_encoding() -> LabelEncoder:\n",
    "    # Khởi tạo Label Encoder\n",
    "    le = LabelEncoder()\n",
    "\n",
    "    # Đọc cột `Label` từ tệp CSV\n",
    "    labels = pd.read_csv(FILE_PATH, usecols=['Label'], skipinitialspace=True)\n",
    "\n",
    "    # Huấn luyện bộ mã hóa với dữ liệu từ `Label`\n",
    "    le.fit(labels.Label)\n",
    "\n",
    "    # Lưu bộ mã hóa\n",
    "    np.save(os.path.join(PROCESSED_DIR_PATH, 'label_encoder.npy'), le.classes_)\n",
    "\n",
    "    # Log kết quả\n",
    "    logging.info(\"Total rows: {}\".format(labels.shape))\n",
    "    logging.info(\"Class distribution:\\n{}\\n\".format(labels.Label.value_counts()))\n",
    "\n",
    "    return le\n",
    "\n",
    "label_encoder = _label_encoding()\n"
   ]
  },
  {
   "cell_type": "markdown",
   "metadata": {},
   "source": [
    "### Xử lý dữ liệu\n",
    "Thực hiện các bước xử lý dữ liệu để thay thế các giá trị `NaN`, giá trị vô hạn (`inf`) và giá trị âm bằng các giá trị phù hợp dựa trên lớp của từng hàng.\n"
   ]
  },
  {
   "cell_type": "code",
   "execution_count": 10,
   "metadata": {},
   "outputs": [],
   "source": [
    "def _process(df: pd.DataFrame, le: LabelEncoder) -> pd.DataFrame:\n",
    "    # Mã hóa cột Label\n",
    "    df.Label = le.transform(df.Label)\n",
    "\n",
    "    # Điền giá trị NaN với giá trị trung bình của từng lớp\n",
    "    nan_rows = df[df.isna().any(axis=1)].shape[0]\n",
    "    logging.info(\"Fill NaN in {} rows with average value of each class.\".format(nan_rows))\n",
    "    df.iloc[:, df.columns != \"Label\"] = df.groupby(\"Label\").transform(lambda x: x.fillna(x.mean()))\n",
    "\n",
    "    # Thay thế giá trị vô hạn với giá trị tối đa của từng lớp\n",
    "    inf_rows = df[df.isin([np.inf]).any(axis=1)].shape[0]\n",
    "    logging.info(\"Replace Inf in {} rows with maximum value of each class.\".format(inf_rows))\n",
    "    df = df.replace([np.inf], np.nan)\n",
    "    df.iloc[:, df.columns != \"Label\"] = df.groupby(\"Label\").transform(lambda x: x.fillna(x.max()))\n",
    "\n",
    "    # Thay thế giá trị âm với giá trị dương nhỏ nhất của từng lớp\n",
    "    logging.info(\"Replace negative values with minimum value of each class.\")\n",
    "    df[df < 0] = np.nan\n",
    "    df.iloc[:, df.columns != \"Label\"] = df.groupby(\"Label\").transform(lambda x: x.fillna(x.min()))\n",
    "\n",
    "    return df\n"
   ]
  },
  {
   "cell_type": "markdown",
   "metadata": {},
   "source": [
    "### Chia dữ liệu thành tập huấn luyện và kiểm tra\n",
    "Tách dữ liệu thành tập huấn luyện và tập kiểm tra với tỷ lệ 80:20 để chuẩn bị cho quá trình huấn luyện và đánh giá mô hình.\n"
   ]
  },
  {
   "cell_type": "code",
   "execution_count": 11,
   "metadata": {},
   "outputs": [],
   "source": [
    "def _split_train_test(df: pd.DataFrame) -> (pd.DataFrame, pd.DataFrame):\n",
    "    # Tách dữ liệu thành X và y\n",
    "    x = df.iloc[:, df.columns != 'Label']\n",
    "    y = df[['Label']]\n",
    "\n",
    "    # Chia thành tập huấn luyện và kiểm tra\n",
    "    x_train, x_test, y_train, y_test = train_test_split(x, y, stratify=y, test_size=0.20, random_state=np.random.randint(10))\n",
    "\n",
    "    del x, y\n",
    "\n",
    "    train = pd.concat([x_train, y_train], axis=1, sort=False)\n",
    "    test = pd.concat([x_test, y_test], axis=1, sort=False)\n",
    "\n",
    "    return train, test\n"
   ]
  },
  {
   "cell_type": "markdown",
   "metadata": {},
   "source": [
    "### Lưu dữ liệu đã xử lý vào tệp CSV\n",
    "Lưu tập dữ liệu đã xử lý vào tệp CSV để có thể sử dụng lại mà không cần xử lý lại từ đầu.\n"
   ]
  },
  {
   "cell_type": "code",
   "execution_count": 12,
   "metadata": {},
   "outputs": [],
   "source": [
    "def _to_csv(df: pd.DataFrame, saving_path: str):\n",
    "    # Nếu file chưa tồn tại, ghi tiêu đề và dữ liệu\n",
    "    if not os.path.isfile(saving_path):\n",
    "        df.to_csv(saving_path, index=False)\n",
    "    # Nếu file đã tồn tại, chỉ ghi dữ liệu mà không ghi tiêu đề\n",
    "    else:\n",
    "        df.to_csv(saving_path, index=False, mode='a', header=False)\n"
   ]
  },
  {
   "cell_type": "markdown",
   "metadata": {},
   "source": [
    "### Tiền xử lý dữ liệu theo từng khối\n",
    "Chia dữ liệu thành từng khối nhỏ để xử lý tuần tự, giúp tránh quá tải bộ nhớ khi làm việc với tập dữ liệu lớn.\n"
   ]
  },
  {
   "cell_type": "code",
   "execution_count": 13,
   "metadata": {},
   "outputs": [
    {
     "name": "stderr",
     "output_type": "stream",
     "text": [
      "15:27:36 INFO Fill NaN in 1347 rows with average value of each class.\n",
      "15:28:07 INFO Replace Inf in 2682 rows with maximum value of each class.\n",
      "15:28:41 INFO Replace negative values with minimum value of each class.\n",
      "15:31:04 INFO Fill NaN in 11 rows with average value of each class.\n",
      "15:31:07 INFO Replace Inf in 185 rows with maximum value of each class.\n",
      "15:31:08 INFO Replace negative values with minimum value of each class.\n"
     ]
    }
   ],
   "source": [
    "def _preprocessing_all(le: LabelEncoder, chunksize=1000000):\n",
    "    # Tiền xử lý toàn bộ dữ liệu từ tệp CSV\n",
    "    for chunk in pd.read_csv(FILE_PATH, skipinitialspace=True, chunksize=chunksize):\n",
    "        train, test = _split_train_test(_process(chunk, le))\n",
    "        _to_csv(train, os.path.join(PROCESSED_DIR_PATH, \"train_MachineLearningCVE.csv\"))\n",
    "        _to_csv(test, os.path.join(PROCESSED_DIR_PATH, \"test_MachineLearningCVE.csv\"))\n",
    "\n",
    "_preprocessing_all(label_encoder, 2500000)\n"
   ]
  }
 ],
 "metadata": {
  "kernelspec": {
   "display_name": "venv",
   "language": "python",
   "name": "python3"
  },
  "language_info": {
   "codemirror_mode": {
    "name": "ipython",
    "version": 3
   },
   "file_extension": ".py",
   "mimetype": "text/x-python",
   "name": "python",
   "nbconvert_exporter": "python",
   "pygments_lexer": "ipython3",
   "version": "3.12.6"
  }
 },
 "nbformat": 4,
 "nbformat_minor": 2
}
