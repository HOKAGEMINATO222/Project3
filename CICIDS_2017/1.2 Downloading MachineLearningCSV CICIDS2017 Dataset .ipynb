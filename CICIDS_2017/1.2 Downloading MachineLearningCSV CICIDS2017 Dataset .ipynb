{
 "cells": [
  {
   "cell_type": "markdown",
   "metadata": {},
   "source": [
    "## Description\n",
    "Minh họa các bước tải xuống tập dữ liệu MachineLearningCSV từ CICIDS2017 dataset."
   ]
  },
  {
   "cell_type": "markdown",
   "metadata": {},
   "source": [
    "## Downloading the dataset\n",
    "1. Truy cập vào trang web chính thức của bộ dữ liệu tại [CICIDS2017 dataset page](https://www.unb.ca/cic/datasets/ids-2017.html) để tìm đường dẫn tải xuống của tệp MachineLearningCSV.\n",
    "2. Sử dụng Python để tải tệp: Sử dụng thư viện requests để tải xuống"
   ]
  },
  {
   "cell_type": "code",
   "execution_count": 2,
   "metadata": {},
   "outputs": [
    {
     "name": "stdout",
     "output_type": "stream",
     "text": [
      "Download completed!\n"
     ]
    }
   ],
   "source": [
    "import requests\n",
    "\n",
    "url = 'http://205.174.165.80/CICDataset/CIC-IDS-2017/Dataset/CIC-IDS-2017/CSVs/MachineLearningCSV.zip'\n",
    "output_path = 'MachineLearningCSV.zip'\n",
    "\n",
    "response = requests.get(url, stream=True)\n",
    "with open(output_path, 'wb') as f:\n",
    "    for chunk in response.iter_content(chunk_size=8192):\n",
    "        if chunk:\n",
    "            f.write(chunk)\n",
    "\n",
    "print(\"Download completed!\")"
   ]
  },
  {
   "cell_type": "markdown",
   "metadata": {},
   "source": [
    "3.Giải nén tệp đã tải xuống: Sau khi tải xong tệp .zip ta dùng python để giải nén"
   ]
  },
  {
   "cell_type": "code",
   "execution_count": 3,
   "metadata": {},
   "outputs": [],
   "source": [
    "import zipfile\n",
    "\n",
    "with zipfile.ZipFile('MachineLearningCSV.zip', 'r') as zip_ref:\n",
    "    zip_ref.extractall('MachineLearningCSV')\n"
   ]
  }
 ],
 "metadata": {
  "kernelspec": {
   "display_name": "venv",
   "language": "python",
   "name": "python3"
  },
  "language_info": {
   "codemirror_mode": {
    "name": "ipython",
    "version": 3
   },
   "file_extension": ".py",
   "mimetype": "text/x-python",
   "name": "python",
   "nbconvert_exporter": "python",
   "pygments_lexer": "ipython3",
   "version": "3.12.6"
  }
 },
 "nbformat": 4,
 "nbformat_minor": 2
}
