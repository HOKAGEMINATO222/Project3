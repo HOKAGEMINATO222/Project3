{
 "cells": [
  {
   "cell_type": "markdown",
   "metadata": {},
   "source": [
    "## Description\n",
    "Minh họa các bước làm sạch tập dữ liệu MachineLearningCSV  từ CICIDS2017 dataset."
   ]
  },
  {
   "cell_type": "markdown",
   "metadata": {},
   "source": [
    "### Change the unrecognized character in the class label\n",
    "Trước tiên ta sẽ thực hiện thay thế ký tự không nhận dạng trong label của lớp. Ở đây ký tự không nhận dạng **\\�** sẽ được thay thế bằng dấu gạch ngang thông thường **(-)**."
   ]
  },
  {
   "cell_type": "code",
   "execution_count": 1,
   "metadata": {},
   "outputs": [
    {
     "name": "stdout",
     "output_type": "stream",
     "text": [
      "['BENIGN' 'Web Attack-Brute Force' 'Web Attack-XSS'\n",
      " 'Web Attack-Sql Injection']\n"
     ]
    }
   ],
   "source": [
    "import os\n",
    "import pandas as pd\n",
    "\n",
    "file_name = os.path.join(\"MachineLearningCSV/MachineLearningCVE\", \"Thursday-WorkingHours-Morning-WebAttacks.pcap_ISCX.csv\")\n",
    "\n",
    "# Đọc tệp CSV và loại bỏ các dòng chứa toàn bộ NaN\n",
    "df = pd.read_csv(file_name, skipinitialspace=True, on_bad_lines='skip')\n",
    "\n",
    "def _renaming_class_label(df: pd.DataFrame):\n",
    "    labels = {\"Web Attack � Brute Force\": \"Web Attack-Brute Force\",\n",
    "              \"Web Attack � XSS\": \"Web Attack-XSS\",\n",
    "              \"Web Attack � Sql Injection\": \"Web Attack-Sql Injection\"}\n",
    "\n",
    "    # Thay thế nhãn không hợp lệ bằng nhãn hợp lệ\n",
    "    for old_label, new_label in labels.items():\n",
    "        df['Label'] = df['Label'].replace(old_label, new_label)\n",
    "\n",
    "# Gọi hàm để thay đổi nhãn\n",
    "_renaming_class_label(df)\n",
    "\n",
    "# Kiểm tra kết quả\n",
    "print(df['Label'].unique())  # Hiển thị các nhãn lớp đã được thay đổi"
   ]
  },
  {
   "cell_type": "markdown",
   "metadata": {},
   "source": [
    "### Saving the dataset\n",
    "Lưu trữ và kết hợp các tệp CSV từ thư mục MachineLearningCVE, sau đó lưu kết quả vào một tệp CSV mới"
   ]
  },
  {
   "cell_type": "code",
   "execution_count": 9,
   "metadata": {},
   "outputs": [
    {
     "name": "stdout",
     "output_type": "stream",
     "text": [
      "Label\n",
      "BENIGN                        2273097\n",
      "DoS Hulk                       231073\n",
      "PortScan                       158930\n",
      "DDoS                           128027\n",
      "DoS GoldenEye                   10293\n",
      "FTP-Patator                      7938\n",
      "SSH-Patator                      5897\n",
      "DoS slowloris                    5796\n",
      "DoS Slowhttptest                 5499\n",
      "Bot                              1966\n",
      "Web Attack � Brute Force         1507\n",
      "Web Attack � XSS                  652\n",
      "Infiltration                       36\n",
      "Web Attack � Sql Injection         21\n",
      "Heartbleed                         11\n",
      "Name: count, dtype: int64\n"
     ]
    }
   ],
   "source": [
    "import pandas as pd\n",
    "import os\n",
    "\n",
    "# Đường dẫn thư mục chứa các tệp dữ liệu\n",
    "DIR_PATH = \"MachineLearningCSV/MachineLearningCVE\"\n",
    "\n",
    "# Danh sách các tệp cần kết hợp\n",
    "FILE_NAMES = [\"Monday-WorkingHours.pcap_ISCX.csv\",\n",
    "              \"Tuesday-WorkingHours.pcap_ISCX.csv\",\n",
    "              \"Wednesday-workingHours.pcap_ISCX.csv\",\n",
    "              \"Thursday-WorkingHours-Morning-WebAttacks.pcap_ISCX.csv\",\n",
    "              \"Thursday-WorkingHours-Afternoon-Infilteration.pcap_ISCX.csv\",\n",
    "              \"Friday-WorkingHours-Morning.pcap_ISCX.csv\",\n",
    "              \"Friday-WorkingHours-Afternoon-PortScan.pcap_ISCX.csv\",\n",
    "              \"Friday-WorkingHours-Afternoon-DDos.pcap_ISCX.csv\"]\n",
    "\n",
    "# Đọc tất cả các tệp CSV vào các DataFrame\n",
    "df_list = [pd.read_csv(os.path.join(DIR_PATH, f), skipinitialspace=True) for f in FILE_NAMES]\n",
    "\n",
    "# Kết hợp tất cả các DataFrame lại với nhau\n",
    "df = pd.concat(df_list, ignore_index=True)\n",
    "\n",
    "# Hiển thị số lượng các lớp trong cột 'Label'\n",
    "print(df.Label.value_counts())\n",
    "\n",
    "# Lưu tệp kết hợp vào tệp CSV mới\n",
    "output_file = os.path.join(DIR_PATH, \"MachineLearningCVE.csv\")\n",
    "df.to_csv(output_file, index=False)"
   ]
  }
 ],
 "metadata": {
  "kernelspec": {
   "display_name": "venv",
   "language": "python",
   "name": "python3"
  },
  "language_info": {
   "codemirror_mode": {
    "name": "ipython",
    "version": 3
   },
   "file_extension": ".py",
   "mimetype": "text/x-python",
   "name": "python",
   "nbconvert_exporter": "python",
   "pygments_lexer": "ipython3",
   "version": "3.12.6"
  }
 },
 "nbformat": 4,
 "nbformat_minor": 2
}
