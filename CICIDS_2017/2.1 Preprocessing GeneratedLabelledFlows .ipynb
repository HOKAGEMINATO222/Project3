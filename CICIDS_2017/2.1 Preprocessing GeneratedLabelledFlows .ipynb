{
 "cells": [
  {
   "cell_type": "markdown",
   "metadata": {},
   "source": [
    "## Description\n",
    "Minh họa các bước làm sạch tập dữ liệu GeneratedLabelledFlows từ CICIDS2017 dataset."
   ]
  },
  {
   "cell_type": "markdown",
   "metadata": {},
   "source": [
    "### Change the encoding to utf-8\n",
    "Trước tiên ta cần thay đổi mã hóa của tệp CSV có tên Thursday-WorkingHours-Morning-WebAttacks.pcap_ISCX.csv từ latin1 sang utf-8.\n",
    "Dưới đây là đoạn mã Python thực hiện việc này:"
   ]
  },
  {
   "cell_type": "code",
   "execution_count": 15,
   "metadata": {},
   "outputs": [],
   "source": [
    "import os\n",
    "import codecs\n",
    "import pandas as pd\n",
    "\n",
    "\"\"\"\n",
    "    Hàm này đọc một tệp với mã hóa đã cho và ghi lại nó với mã hóa utf-8.\n",
    "\n",
    "    Tham số:\n",
    "    - filename (str): đường dẫn đến tệp cần chuyển đổi\n",
    "    - encoding (str): mã hóa ban đầu của tệp (mặc định là 'latin1')\n",
    "    - blocksize (int): kích thước của khối dữ liệu đọc và ghi mỗi lần (mặc định là 1MB)\n",
    "\"\"\"\n",
    "\n",
    "def _to_utf8(filename: str, encoding=\"latin1\", blocksize=1048576):\n",
    "    tmpfilename = filename + \".tmp\"\n",
    "    with codecs.open(filename, \"r\", encoding) as source:\n",
    "        with codecs.open(tmpfilename, \"w\", \"utf-8\") as target:\n",
    "            while True:\n",
    "                contents = source.read(blocksize)\n",
    "                if not contents:\n",
    "                    break\n",
    "                target.write(contents)\n",
    "                \n",
    "    # Nếu tệp gốc tồn tại, xóa nó trước khi thay thế\n",
    "    if os.path.exists(filename):\n",
    "        os.remove(filename)\n",
    "\n",
    "    # replace the original file\n",
    "    os.rename(tmpfilename, filename)\n"
   ]
  },
  {
   "cell_type": "markdown",
   "metadata": {},
   "source": [
    "Tiếp đến gọi hàm _to_utf8 để thay đổi mã hóa cho tệp cần xử lý:"
   ]
  },
  {
   "cell_type": "code",
   "execution_count": 16,
   "metadata": {},
   "outputs": [],
   "source": [
    "file_name = os.path.join(\"GeneratedLabelledFlows/TrafficLabelling\", \"Thursday-WorkingHours-Morning-WebAttacks.pcap_ISCX.csv\")\n",
    "_to_utf8(file_name)\n"
   ]
  },
  {
   "cell_type": "markdown",
   "metadata": {},
   "source": [
    "### Removing rows with only NaN values\n",
    "Tiếp đến chúng ta sẽ thực hiện đọc tệp Thursday-WorkingHours-Morning-WebAttacks.pcap_ISCX.csv, kiểm tra và loại bỏ các dòng chứa giá trị NaN"
   ]
  },
  {
   "cell_type": "code",
   "execution_count": 23,
   "metadata": {},
   "outputs": [
    {
     "name": "stderr",
     "output_type": "stream",
     "text": [
      "C:\\Users\\vegap\\AppData\\Local\\Temp\\ipykernel_9400\\3522157122.py:4: DtypeWarning: Columns (0,1,3,6,84) have mixed types. Specify dtype option on import or set low_memory=False.\n",
      "  df = pd.read_csv(file_name, skipinitialspace=True, on_bad_lines='skip')\n"
     ]
    },
    {
     "name": "stdout",
     "output_type": "stream",
     "text": [
      "Removing 288602 rows that contains only NaN values...\n",
      "Số dòng còn lại: 170366\n"
     ]
    }
   ],
   "source": [
    "import pandas as pd\n",
    "\n",
    "# Đọc tệp CSV và loại bỏ các dòng chứa toàn bộ NaN\n",
    "df = pd.read_csv(file_name, skipinitialspace=True, on_bad_lines='skip')\n",
    "\n",
    "# Hiển thị số lượng các dòng chứa toàn bộ NaN\n",
    "print(\"Removing {} rows that contains only NaN values...\".format(df[df.isna().all(axis=1)].shape[0]))\n",
    "\n",
    "# Loại bỏ các dòng chứa toàn bộ NaN\n",
    "df = df[~df.isna().all(axis=1)]\n",
    "\n",
    "# Kiểm tra kết quả\n",
    "print(f\"Số dòng còn lại: {df.shape[0]}\")\n",
    "\n"
   ]
  },
  {
   "cell_type": "markdown",
   "metadata": {},
   "source": [
    "### Change the unrecognized character in the class label\n",
    "Tiếp đến ta sẽ thực hiện thay thế ký tự không nhận dạng trong label của lớp. Ở đây ký tự không nhận dạng **\\x96** sẽ được thay thế bằng dấu gạch ngang thông thường **(-)**."
   ]
  },
  {
   "cell_type": "code",
   "execution_count": 25,
   "metadata": {},
   "outputs": [
    {
     "name": "stdout",
     "output_type": "stream",
     "text": [
      "['BENIGN' 'Web Attack-Brute Force' 'Web Attack-XSS'\n",
      " 'Web Attack-Sql Injection']\n"
     ]
    }
   ],
   "source": [
    "import pandas as pd\n",
    "\n",
    "def _renaming_class_label(df: pd.DataFrame):\n",
    "    labels = {\n",
    "        \"Web Attack \\x96 Brute Force\": \"Web Attack-Brute Force\",\n",
    "        \"Web Attack \\x96 XSS\": \"Web Attack-XSS\",\n",
    "        \"Web Attack \\x96 Sql Injection\": \"Web Attack-Sql Injection\"\n",
    "    }\n",
    "\n",
    "    # Thay thế nhãn không hợp lệ bằng nhãn hợp lệ\n",
    "    for old_label, new_label in labels.items():\n",
    "        df['Label'] = df['Label'].replace(old_label, new_label)\n",
    "\n",
    "# Gọi hàm để thay đổi nhãn\n",
    "_renaming_class_label(df)\n",
    "\n",
    "# Kiểm tra kết quả\n",
    "print(df['Label'].unique())  # Hiển thị các nhãn lớp đã được thay đổi\n"
   ]
  },
  {
   "cell_type": "markdown",
   "metadata": {},
   "source": [
    "### Saving the dataset\n",
    "Lưu trữ và kết hợp các tệp CSV từ thư mục TrafficLabelling, sau đó lưu kết quả vào một tệp CSV mới"
   ]
  },
  {
   "cell_type": "code",
   "execution_count": 9,
   "metadata": {},
   "outputs": [
    {
     "name": "stderr",
     "output_type": "stream",
     "text": [
      "C:\\Users\\vegap\\AppData\\Local\\Temp\\ipykernel_15992\\4153347537.py:20: DtypeWarning: Columns (0,1,3,6,84) have mixed types. Specify dtype option on import or set low_memory=False.\n",
      "  df_list = [pd.read_csv(os.path.join(DIR_PATH, f), skipinitialspace=True) for f in FILE_NAMES]\n"
     ]
    },
    {
     "name": "stdout",
     "output_type": "stream",
     "text": [
      "Label\n",
      "BENIGN                        2273097\n",
      "DoS Hulk                       231073\n",
      "PortScan                       158930\n",
      "DDoS                           128027\n",
      "DoS GoldenEye                   10293\n",
      "FTP-Patator                      7938\n",
      "SSH-Patator                      5897\n",
      "DoS slowloris                    5796\n",
      "DoS Slowhttptest                 5499\n",
      "Bot                              1966\n",
      "Web Attack  Brute Force         1507\n",
      "Web Attack  XSS                  652\n",
      "Infiltration                       36\n",
      "Web Attack  Sql Injection         21\n",
      "Heartbleed                         11\n",
      "Name: count, dtype: int64\n"
     ]
    }
   ],
   "source": [
    "import pandas as pd\n",
    "import os\n",
    "\n",
    "# Đường dẫn thư mục chứa các tệp dữ liệu\n",
    "DIR_PATH = \"GeneratedLabelledFlows/TrafficLabelling\"\n",
    "\n",
    "# Danh sách các tệp cần kết hợp\n",
    "FILE_NAMES = [\n",
    "    \"Monday-WorkingHours.pcap_ISCX.csv\",\n",
    "    \"Tuesday-WorkingHours.pcap_ISCX.csv\",\n",
    "    \"Wednesday-workingHours.pcap_ISCX.csv\",\n",
    "    \"Thursday-WorkingHours-Morning-WebAttacks.pcap_ISCX.csv\",\n",
    "    \"Thursday-WorkingHours-Afternoon-Infilteration.pcap_ISCX.csv\",\n",
    "    \"Friday-WorkingHours-Morning.pcap_ISCX.csv\",\n",
    "    \"Friday-WorkingHours-Afternoon-PortScan.pcap_ISCX.csv\",\n",
    "    \"Friday-WorkingHours-Afternoon-DDos.pcap_ISCX.csv\"\n",
    "]\n",
    "\n",
    "# Đọc tất cả các tệp CSV vào các DataFrame\n",
    "df_list = [pd.read_csv(os.path.join(DIR_PATH, f), skipinitialspace=True) for f in FILE_NAMES]\n",
    "\n",
    "# Kết hợp tất cả các DataFrame lại với nhau\n",
    "df = pd.concat(df_list, ignore_index=True)\n",
    "\n",
    "# Hiển thị số lượng các lớp trong cột 'Label'\n",
    "print(df.Label.value_counts())\n",
    "\n",
    "# Lưu tệp kết hợp vào tệp CSV mới\n",
    "output_file = os.path.join(DIR_PATH, \"TrafficLabelling.csv\")\n",
    "df.to_csv(output_file, index=False)"
   ]
  }
 ],
 "metadata": {
  "kernelspec": {
   "display_name": "venv",
   "language": "python",
   "name": "python3"
  },
  "language_info": {
   "codemirror_mode": {
    "name": "ipython",
    "version": 3
   },
   "file_extension": ".py",
   "mimetype": "text/x-python",
   "name": "python",
   "nbconvert_exporter": "python",
   "pygments_lexer": "ipython3",
   "version": "3.12.6"
  }
 },
 "nbformat": 4,
 "nbformat_minor": 2
}
