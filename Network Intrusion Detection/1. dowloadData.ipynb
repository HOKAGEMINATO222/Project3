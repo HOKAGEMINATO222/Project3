{
 "cells": [
  {
   "cell_type": "markdown",
   "metadata": {},
   "source": [
    "## Tải bộ data set từ kaggle\n",
    "Truy cập vào đường link sau [Network Intrusion Detection](https://www.kaggle.com/datasets/sampadab17/network-intrusion-detection/data?select=Train_data.csv)\n",
    "\n"
   ]
  },
  {
   "cell_type": "markdown",
   "metadata": {},
   "source": [
    "Sau khi tải tệp zip về thì giải nén và lưu vào thư mục hiện tại"
   ]
  },
  {
   "cell_type": "code",
   "execution_count": 16,
   "metadata": {},
   "outputs": [
    {
     "name": "stdout",
     "output_type": "stream",
     "text": [
      "Tệp đã được giải nén vào: ../Network Intrusion Detection\n"
     ]
    }
   ],
   "source": [
    "import zipfile\n",
    "\n",
    "# Đường dẫn tệp zip cần giải nén\n",
    "zip_file_path = \"../Network Intrusion Detection/network-intrusion-detection.zip\"\n",
    "\n",
    "\n",
    "# Thư mục đích để giải nén\n",
    "extract_folder = \"../Network Intrusion Detection\"\n",
    "\n",
    "# Giải nén tệp\n",
    "with zipfile.ZipFile(zip_file_path, 'r') as zip_ref:\n",
    "    zip_ref.extractall(extract_folder)\n",
    "\n",
    "print(f'Tệp đã được giải nén vào: {extract_folder}')"
   ]
  }
 ],
 "metadata": {
  "kernelspec": {
   "display_name": "venv",
   "language": "python",
   "name": "python3"
  },
  "language_info": {
   "codemirror_mode": {
    "name": "ipython",
    "version": 3
   },
   "file_extension": ".py",
   "mimetype": "text/x-python",
   "name": "python",
   "nbconvert_exporter": "python",
   "pygments_lexer": "ipython3",
   "version": "3.12.6"
  }
 },
 "nbformat": 4,
 "nbformat_minor": 2
}
